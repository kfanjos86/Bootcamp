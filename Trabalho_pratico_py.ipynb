{
  "nbformat": 4,
  "nbformat_minor": 0,
  "metadata": {
    "colab": {
      "name": "Trabalho_pratico.py",
      "provenance": [],
      "collapsed_sections": [],
      "authorship_tag": "ABX9TyMOd1LVx9AA77XMWTHz0N5S",
      "include_colab_link": true
    },
    "kernelspec": {
      "name": "python3",
      "display_name": "Python 3"
    },
    "language_info": {
      "name": "python"
    }
  },
  "cells": [
    {
      "cell_type": "markdown",
      "metadata": {
        "id": "view-in-github",
        "colab_type": "text"
      },
      "source": [
        "<a href=\"https://colab.research.google.com/github/kfanjos86/Bootcamp/blob/main/Trabalho_pratico_py.ipynb\" target=\"_parent\"><img src=\"https://colab.research.google.com/assets/colab-badge.svg\" alt=\"Open In Colab\"/></a>"
      ]
    },
    {
      "cell_type": "code",
      "metadata": {
        "colab": {
          "base_uri": "https://localhost:8080/",
          "height": 131
        },
        "id": "7T4zC_EAaCMV",
        "outputId": "5aa6be0a-8e06-4202-faf2-76926ddd3e19"
      },
      "source": [
        "nome = 'Roberto'\n",
        "idade = 35\n",
        "altura = 1.88\n",
        "cidades_visitadas = ['Paris', 'Barcelona', 'Chicago', 'Berlim']\n",
        "paises_visitados = ('França', 'Espanha', 'Estados Unidos', 'Alemanha')\n",
        "notas_cidades = {'Paris':5,\n",
        " 'Barcelona':4,\n",
        " 'Chicago':5,\n",
        " 'Berlim':3}\n",
        "dinheiro_gasto = {1.000}\n",
        "dinheiro_guardado = 'R$ 500,00'\n",
        "proximas_viagens = ['Moscou', 'Londres', 'Lisboa]\n"
      ],
      "execution_count": 1,
      "outputs": [
        {
          "output_type": "error",
          "ename": "SyntaxError",
          "evalue": "ignored",
          "traceback": [
            "\u001b[0;36m  File \u001b[0;32m\"<ipython-input-1-261cd9c5cdfb>\"\u001b[0;36m, line \u001b[0;32m12\u001b[0m\n\u001b[0;31m    proximas_viagens = ['Moscou', 'Londres', 'Lisboa]\u001b[0m\n\u001b[0m                                                     ^\u001b[0m\n\u001b[0;31mSyntaxError\u001b[0m\u001b[0;31m:\u001b[0m EOL while scanning string literal\n"
          ]
        }
      ]
    }
  ]
}